{
  "nbformat": 4,
  "nbformat_minor": 0,
  "metadata": {
    "colab": {
      "provenance": []
    },
    "kernelspec": {
      "name": "python3",
      "display_name": "Python 3"
    },
    "language_info": {
      "name": "python"
    }
  },
  "cells": [
    {
      "cell_type": "markdown",
      "source": [
        "Дубинин Михаил, 20215"
      ],
      "metadata": {
        "id": "IZ13gkxEEBcE"
      }
    },
    {
      "cell_type": "code",
      "execution_count": 138,
      "metadata": {
        "id": "vkmNUJ249X1g"
      },
      "outputs": [],
      "source": [
        "import numpy as np\n",
        "import pandas as pd\n",
        "import matplotlib.pyplot as plt\n",
        "import plotly.express as px\n",
        "%matplotlib inline"
      ]
    },
    {
      "cell_type": "code",
      "source": [
        "data_train     = pd.read_csv('./Task5_test.csv')\n",
        "data_test      = pd.read_csv('./Task5_test.csv')"
      ],
      "metadata": {
        "id": "6DtQZY6SNLlC"
      },
      "execution_count": 139,
      "outputs": []
    },
    {
      "cell_type": "code",
      "source": [
        "data_train.head()"
      ],
      "metadata": {
        "colab": {
          "base_uri": "https://localhost:8080/",
          "height": 317
        },
        "id": "Obm8m2o7NLtx",
        "outputId": "43a101dd-000a-4905-d1c1-022999009cc3"
      },
      "execution_count": 140,
      "outputs": [
        {
          "output_type": "execute_result",
          "data": {
            "text/plain": [
              "   Unnamed: 0  index         Y         X1         X2         X3         X4  \\\n",
              "0           0   1535  1.220765   0.539326  43.679088  20.926309   6.179238   \n",
              "1           1   4085  0.321220   1.317855 -52.162767 -20.674707  -7.343498   \n",
              "2           2   2513  3.052882 -12.197226 -57.110203  17.861883 -37.173679   \n",
              "3           3    359  0.893139  15.113375  32.492299 -11.156248 -19.879407   \n",
              "4           4   3308  1.247242  18.576153  76.466490  10.083948  20.507711   \n",
              "\n",
              "          X5         X6        X7  ...       X111       X112       X113  \\\n",
              "0  -5.358717   1.731249  0.963347  ...   4.405429  -1.904007 -27.283487   \n",
              "1  -6.081946   0.943064  0.166558  ...   7.578385  -5.614340  -2.645981   \n",
              "2  -0.808244  -0.836227 -0.376634  ... -12.563511  11.269800  54.711948   \n",
              "3 -10.014740 -10.483214  0.037949  ...  -4.906042   5.712416  11.334077   \n",
              "4   7.230089   8.177727  1.429602  ...  29.655519  -9.564759 -27.111919   \n",
              "\n",
              "        X114       X115       X116       X117       X118       X119       X120  \n",
              "0 -27.438427   4.173234  -5.760453   9.757871  -3.191983 -44.780571   8.959113  \n",
              "1  -5.275813   3.443719   7.568027 -13.174991  -0.726145 -28.217882 -19.067210  \n",
              "2 -12.364689  -4.803594  -0.759311   4.975279  12.103898  29.169132 -18.807811  \n",
              "3  -7.783005   1.574379 -18.266061  12.922255  -1.794103 -59.083551  -4.056153  \n",
              "4  -0.604557 -21.439480 -17.789510 -54.532363   1.998957 -23.205994  21.673565  \n",
              "\n",
              "[5 rows x 123 columns]"
            ],
            "text/html": [
              "\n",
              "  <div id=\"df-206b35ec-ea49-4798-a62c-dcb93d2bbc37\">\n",
              "    <div class=\"colab-df-container\">\n",
              "      <div>\n",
              "<style scoped>\n",
              "    .dataframe tbody tr th:only-of-type {\n",
              "        vertical-align: middle;\n",
              "    }\n",
              "\n",
              "    .dataframe tbody tr th {\n",
              "        vertical-align: top;\n",
              "    }\n",
              "\n",
              "    .dataframe thead th {\n",
              "        text-align: right;\n",
              "    }\n",
              "</style>\n",
              "<table border=\"1\" class=\"dataframe\">\n",
              "  <thead>\n",
              "    <tr style=\"text-align: right;\">\n",
              "      <th></th>\n",
              "      <th>Unnamed: 0</th>\n",
              "      <th>index</th>\n",
              "      <th>Y</th>\n",
              "      <th>X1</th>\n",
              "      <th>X2</th>\n",
              "      <th>X3</th>\n",
              "      <th>X4</th>\n",
              "      <th>X5</th>\n",
              "      <th>X6</th>\n",
              "      <th>X7</th>\n",
              "      <th>...</th>\n",
              "      <th>X111</th>\n",
              "      <th>X112</th>\n",
              "      <th>X113</th>\n",
              "      <th>X114</th>\n",
              "      <th>X115</th>\n",
              "      <th>X116</th>\n",
              "      <th>X117</th>\n",
              "      <th>X118</th>\n",
              "      <th>X119</th>\n",
              "      <th>X120</th>\n",
              "    </tr>\n",
              "  </thead>\n",
              "  <tbody>\n",
              "    <tr>\n",
              "      <th>0</th>\n",
              "      <td>0</td>\n",
              "      <td>1535</td>\n",
              "      <td>1.220765</td>\n",
              "      <td>0.539326</td>\n",
              "      <td>43.679088</td>\n",
              "      <td>20.926309</td>\n",
              "      <td>6.179238</td>\n",
              "      <td>-5.358717</td>\n",
              "      <td>1.731249</td>\n",
              "      <td>0.963347</td>\n",
              "      <td>...</td>\n",
              "      <td>4.405429</td>\n",
              "      <td>-1.904007</td>\n",
              "      <td>-27.283487</td>\n",
              "      <td>-27.438427</td>\n",
              "      <td>4.173234</td>\n",
              "      <td>-5.760453</td>\n",
              "      <td>9.757871</td>\n",
              "      <td>-3.191983</td>\n",
              "      <td>-44.780571</td>\n",
              "      <td>8.959113</td>\n",
              "    </tr>\n",
              "    <tr>\n",
              "      <th>1</th>\n",
              "      <td>1</td>\n",
              "      <td>4085</td>\n",
              "      <td>0.321220</td>\n",
              "      <td>1.317855</td>\n",
              "      <td>-52.162767</td>\n",
              "      <td>-20.674707</td>\n",
              "      <td>-7.343498</td>\n",
              "      <td>-6.081946</td>\n",
              "      <td>0.943064</td>\n",
              "      <td>0.166558</td>\n",
              "      <td>...</td>\n",
              "      <td>7.578385</td>\n",
              "      <td>-5.614340</td>\n",
              "      <td>-2.645981</td>\n",
              "      <td>-5.275813</td>\n",
              "      <td>3.443719</td>\n",
              "      <td>7.568027</td>\n",
              "      <td>-13.174991</td>\n",
              "      <td>-0.726145</td>\n",
              "      <td>-28.217882</td>\n",
              "      <td>-19.067210</td>\n",
              "    </tr>\n",
              "    <tr>\n",
              "      <th>2</th>\n",
              "      <td>2</td>\n",
              "      <td>2513</td>\n",
              "      <td>3.052882</td>\n",
              "      <td>-12.197226</td>\n",
              "      <td>-57.110203</td>\n",
              "      <td>17.861883</td>\n",
              "      <td>-37.173679</td>\n",
              "      <td>-0.808244</td>\n",
              "      <td>-0.836227</td>\n",
              "      <td>-0.376634</td>\n",
              "      <td>...</td>\n",
              "      <td>-12.563511</td>\n",
              "      <td>11.269800</td>\n",
              "      <td>54.711948</td>\n",
              "      <td>-12.364689</td>\n",
              "      <td>-4.803594</td>\n",
              "      <td>-0.759311</td>\n",
              "      <td>4.975279</td>\n",
              "      <td>12.103898</td>\n",
              "      <td>29.169132</td>\n",
              "      <td>-18.807811</td>\n",
              "    </tr>\n",
              "    <tr>\n",
              "      <th>3</th>\n",
              "      <td>3</td>\n",
              "      <td>359</td>\n",
              "      <td>0.893139</td>\n",
              "      <td>15.113375</td>\n",
              "      <td>32.492299</td>\n",
              "      <td>-11.156248</td>\n",
              "      <td>-19.879407</td>\n",
              "      <td>-10.014740</td>\n",
              "      <td>-10.483214</td>\n",
              "      <td>0.037949</td>\n",
              "      <td>...</td>\n",
              "      <td>-4.906042</td>\n",
              "      <td>5.712416</td>\n",
              "      <td>11.334077</td>\n",
              "      <td>-7.783005</td>\n",
              "      <td>1.574379</td>\n",
              "      <td>-18.266061</td>\n",
              "      <td>12.922255</td>\n",
              "      <td>-1.794103</td>\n",
              "      <td>-59.083551</td>\n",
              "      <td>-4.056153</td>\n",
              "    </tr>\n",
              "    <tr>\n",
              "      <th>4</th>\n",
              "      <td>4</td>\n",
              "      <td>3308</td>\n",
              "      <td>1.247242</td>\n",
              "      <td>18.576153</td>\n",
              "      <td>76.466490</td>\n",
              "      <td>10.083948</td>\n",
              "      <td>20.507711</td>\n",
              "      <td>7.230089</td>\n",
              "      <td>8.177727</td>\n",
              "      <td>1.429602</td>\n",
              "      <td>...</td>\n",
              "      <td>29.655519</td>\n",
              "      <td>-9.564759</td>\n",
              "      <td>-27.111919</td>\n",
              "      <td>-0.604557</td>\n",
              "      <td>-21.439480</td>\n",
              "      <td>-17.789510</td>\n",
              "      <td>-54.532363</td>\n",
              "      <td>1.998957</td>\n",
              "      <td>-23.205994</td>\n",
              "      <td>21.673565</td>\n",
              "    </tr>\n",
              "  </tbody>\n",
              "</table>\n",
              "<p>5 rows × 123 columns</p>\n",
              "</div>\n",
              "      <button class=\"colab-df-convert\" onclick=\"convertToInteractive('df-206b35ec-ea49-4798-a62c-dcb93d2bbc37')\"\n",
              "              title=\"Convert this dataframe to an interactive table.\"\n",
              "              style=\"display:none;\">\n",
              "        \n",
              "  <svg xmlns=\"http://www.w3.org/2000/svg\" height=\"24px\"viewBox=\"0 0 24 24\"\n",
              "       width=\"24px\">\n",
              "    <path d=\"M0 0h24v24H0V0z\" fill=\"none\"/>\n",
              "    <path d=\"M18.56 5.44l.94 2.06.94-2.06 2.06-.94-2.06-.94-.94-2.06-.94 2.06-2.06.94zm-11 1L8.5 8.5l.94-2.06 2.06-.94-2.06-.94L8.5 2.5l-.94 2.06-2.06.94zm10 10l.94 2.06.94-2.06 2.06-.94-2.06-.94-.94-2.06-.94 2.06-2.06.94z\"/><path d=\"M17.41 7.96l-1.37-1.37c-.4-.4-.92-.59-1.43-.59-.52 0-1.04.2-1.43.59L10.3 9.45l-7.72 7.72c-.78.78-.78 2.05 0 2.83L4 21.41c.39.39.9.59 1.41.59.51 0 1.02-.2 1.41-.59l7.78-7.78 2.81-2.81c.8-.78.8-2.07 0-2.86zM5.41 20L4 18.59l7.72-7.72 1.47 1.35L5.41 20z\"/>\n",
              "  </svg>\n",
              "      </button>\n",
              "      \n",
              "  <style>\n",
              "    .colab-df-container {\n",
              "      display:flex;\n",
              "      flex-wrap:wrap;\n",
              "      gap: 12px;\n",
              "    }\n",
              "\n",
              "    .colab-df-convert {\n",
              "      background-color: #E8F0FE;\n",
              "      border: none;\n",
              "      border-radius: 50%;\n",
              "      cursor: pointer;\n",
              "      display: none;\n",
              "      fill: #1967D2;\n",
              "      height: 32px;\n",
              "      padding: 0 0 0 0;\n",
              "      width: 32px;\n",
              "    }\n",
              "\n",
              "    .colab-df-convert:hover {\n",
              "      background-color: #E2EBFA;\n",
              "      box-shadow: 0px 1px 2px rgba(60, 64, 67, 0.3), 0px 1px 3px 1px rgba(60, 64, 67, 0.15);\n",
              "      fill: #174EA6;\n",
              "    }\n",
              "\n",
              "    [theme=dark] .colab-df-convert {\n",
              "      background-color: #3B4455;\n",
              "      fill: #D2E3FC;\n",
              "    }\n",
              "\n",
              "    [theme=dark] .colab-df-convert:hover {\n",
              "      background-color: #434B5C;\n",
              "      box-shadow: 0px 1px 3px 1px rgba(0, 0, 0, 0.15);\n",
              "      filter: drop-shadow(0px 1px 2px rgba(0, 0, 0, 0.3));\n",
              "      fill: #FFFFFF;\n",
              "    }\n",
              "  </style>\n",
              "\n",
              "      <script>\n",
              "        const buttonEl =\n",
              "          document.querySelector('#df-206b35ec-ea49-4798-a62c-dcb93d2bbc37 button.colab-df-convert');\n",
              "        buttonEl.style.display =\n",
              "          google.colab.kernel.accessAllowed ? 'block' : 'none';\n",
              "\n",
              "        async function convertToInteractive(key) {\n",
              "          const element = document.querySelector('#df-206b35ec-ea49-4798-a62c-dcb93d2bbc37');\n",
              "          const dataTable =\n",
              "            await google.colab.kernel.invokeFunction('convertToInteractive',\n",
              "                                                     [key], {});\n",
              "          if (!dataTable) return;\n",
              "\n",
              "          const docLinkHtml = 'Like what you see? Visit the ' +\n",
              "            '<a target=\"_blank\" href=https://colab.research.google.com/notebooks/data_table.ipynb>data table notebook</a>'\n",
              "            + ' to learn more about interactive tables.';\n",
              "          element.innerHTML = '';\n",
              "          dataTable['output_type'] = 'display_data';\n",
              "          await google.colab.output.renderOutput(dataTable, element);\n",
              "          const docLink = document.createElement('div');\n",
              "          docLink.innerHTML = docLinkHtml;\n",
              "          element.appendChild(docLink);\n",
              "        }\n",
              "      </script>\n",
              "    </div>\n",
              "  </div>\n",
              "  "
            ]
          },
          "metadata": {},
          "execution_count": 140
        }
      ]
    },
    {
      "cell_type": "code",
      "source": [
        "data_test.head()"
      ],
      "metadata": {
        "colab": {
          "base_uri": "https://localhost:8080/",
          "height": 317
        },
        "id": "oG5efmj0wKJI",
        "outputId": "42a0973a-a4c9-4e2c-c3e7-437410ff2ed2"
      },
      "execution_count": 141,
      "outputs": [
        {
          "output_type": "execute_result",
          "data": {
            "text/plain": [
              "   Unnamed: 0  index         Y         X1         X2         X3         X4  \\\n",
              "0           0   1535  1.220765   0.539326  43.679088  20.926309   6.179238   \n",
              "1           1   4085  0.321220   1.317855 -52.162767 -20.674707  -7.343498   \n",
              "2           2   2513  3.052882 -12.197226 -57.110203  17.861883 -37.173679   \n",
              "3           3    359  0.893139  15.113375  32.492299 -11.156248 -19.879407   \n",
              "4           4   3308  1.247242  18.576153  76.466490  10.083948  20.507711   \n",
              "\n",
              "          X5         X6        X7  ...       X111       X112       X113  \\\n",
              "0  -5.358717   1.731249  0.963347  ...   4.405429  -1.904007 -27.283487   \n",
              "1  -6.081946   0.943064  0.166558  ...   7.578385  -5.614340  -2.645981   \n",
              "2  -0.808244  -0.836227 -0.376634  ... -12.563511  11.269800  54.711948   \n",
              "3 -10.014740 -10.483214  0.037949  ...  -4.906042   5.712416  11.334077   \n",
              "4   7.230089   8.177727  1.429602  ...  29.655519  -9.564759 -27.111919   \n",
              "\n",
              "        X114       X115       X116       X117       X118       X119       X120  \n",
              "0 -27.438427   4.173234  -5.760453   9.757871  -3.191983 -44.780571   8.959113  \n",
              "1  -5.275813   3.443719   7.568027 -13.174991  -0.726145 -28.217882 -19.067210  \n",
              "2 -12.364689  -4.803594  -0.759311   4.975279  12.103898  29.169132 -18.807811  \n",
              "3  -7.783005   1.574379 -18.266061  12.922255  -1.794103 -59.083551  -4.056153  \n",
              "4  -0.604557 -21.439480 -17.789510 -54.532363   1.998957 -23.205994  21.673565  \n",
              "\n",
              "[5 rows x 123 columns]"
            ],
            "text/html": [
              "\n",
              "  <div id=\"df-d09a1cef-d0e4-4f1a-a8d1-3a9c66240087\">\n",
              "    <div class=\"colab-df-container\">\n",
              "      <div>\n",
              "<style scoped>\n",
              "    .dataframe tbody tr th:only-of-type {\n",
              "        vertical-align: middle;\n",
              "    }\n",
              "\n",
              "    .dataframe tbody tr th {\n",
              "        vertical-align: top;\n",
              "    }\n",
              "\n",
              "    .dataframe thead th {\n",
              "        text-align: right;\n",
              "    }\n",
              "</style>\n",
              "<table border=\"1\" class=\"dataframe\">\n",
              "  <thead>\n",
              "    <tr style=\"text-align: right;\">\n",
              "      <th></th>\n",
              "      <th>Unnamed: 0</th>\n",
              "      <th>index</th>\n",
              "      <th>Y</th>\n",
              "      <th>X1</th>\n",
              "      <th>X2</th>\n",
              "      <th>X3</th>\n",
              "      <th>X4</th>\n",
              "      <th>X5</th>\n",
              "      <th>X6</th>\n",
              "      <th>X7</th>\n",
              "      <th>...</th>\n",
              "      <th>X111</th>\n",
              "      <th>X112</th>\n",
              "      <th>X113</th>\n",
              "      <th>X114</th>\n",
              "      <th>X115</th>\n",
              "      <th>X116</th>\n",
              "      <th>X117</th>\n",
              "      <th>X118</th>\n",
              "      <th>X119</th>\n",
              "      <th>X120</th>\n",
              "    </tr>\n",
              "  </thead>\n",
              "  <tbody>\n",
              "    <tr>\n",
              "      <th>0</th>\n",
              "      <td>0</td>\n",
              "      <td>1535</td>\n",
              "      <td>1.220765</td>\n",
              "      <td>0.539326</td>\n",
              "      <td>43.679088</td>\n",
              "      <td>20.926309</td>\n",
              "      <td>6.179238</td>\n",
              "      <td>-5.358717</td>\n",
              "      <td>1.731249</td>\n",
              "      <td>0.963347</td>\n",
              "      <td>...</td>\n",
              "      <td>4.405429</td>\n",
              "      <td>-1.904007</td>\n",
              "      <td>-27.283487</td>\n",
              "      <td>-27.438427</td>\n",
              "      <td>4.173234</td>\n",
              "      <td>-5.760453</td>\n",
              "      <td>9.757871</td>\n",
              "      <td>-3.191983</td>\n",
              "      <td>-44.780571</td>\n",
              "      <td>8.959113</td>\n",
              "    </tr>\n",
              "    <tr>\n",
              "      <th>1</th>\n",
              "      <td>1</td>\n",
              "      <td>4085</td>\n",
              "      <td>0.321220</td>\n",
              "      <td>1.317855</td>\n",
              "      <td>-52.162767</td>\n",
              "      <td>-20.674707</td>\n",
              "      <td>-7.343498</td>\n",
              "      <td>-6.081946</td>\n",
              "      <td>0.943064</td>\n",
              "      <td>0.166558</td>\n",
              "      <td>...</td>\n",
              "      <td>7.578385</td>\n",
              "      <td>-5.614340</td>\n",
              "      <td>-2.645981</td>\n",
              "      <td>-5.275813</td>\n",
              "      <td>3.443719</td>\n",
              "      <td>7.568027</td>\n",
              "      <td>-13.174991</td>\n",
              "      <td>-0.726145</td>\n",
              "      <td>-28.217882</td>\n",
              "      <td>-19.067210</td>\n",
              "    </tr>\n",
              "    <tr>\n",
              "      <th>2</th>\n",
              "      <td>2</td>\n",
              "      <td>2513</td>\n",
              "      <td>3.052882</td>\n",
              "      <td>-12.197226</td>\n",
              "      <td>-57.110203</td>\n",
              "      <td>17.861883</td>\n",
              "      <td>-37.173679</td>\n",
              "      <td>-0.808244</td>\n",
              "      <td>-0.836227</td>\n",
              "      <td>-0.376634</td>\n",
              "      <td>...</td>\n",
              "      <td>-12.563511</td>\n",
              "      <td>11.269800</td>\n",
              "      <td>54.711948</td>\n",
              "      <td>-12.364689</td>\n",
              "      <td>-4.803594</td>\n",
              "      <td>-0.759311</td>\n",
              "      <td>4.975279</td>\n",
              "      <td>12.103898</td>\n",
              "      <td>29.169132</td>\n",
              "      <td>-18.807811</td>\n",
              "    </tr>\n",
              "    <tr>\n",
              "      <th>3</th>\n",
              "      <td>3</td>\n",
              "      <td>359</td>\n",
              "      <td>0.893139</td>\n",
              "      <td>15.113375</td>\n",
              "      <td>32.492299</td>\n",
              "      <td>-11.156248</td>\n",
              "      <td>-19.879407</td>\n",
              "      <td>-10.014740</td>\n",
              "      <td>-10.483214</td>\n",
              "      <td>0.037949</td>\n",
              "      <td>...</td>\n",
              "      <td>-4.906042</td>\n",
              "      <td>5.712416</td>\n",
              "      <td>11.334077</td>\n",
              "      <td>-7.783005</td>\n",
              "      <td>1.574379</td>\n",
              "      <td>-18.266061</td>\n",
              "      <td>12.922255</td>\n",
              "      <td>-1.794103</td>\n",
              "      <td>-59.083551</td>\n",
              "      <td>-4.056153</td>\n",
              "    </tr>\n",
              "    <tr>\n",
              "      <th>4</th>\n",
              "      <td>4</td>\n",
              "      <td>3308</td>\n",
              "      <td>1.247242</td>\n",
              "      <td>18.576153</td>\n",
              "      <td>76.466490</td>\n",
              "      <td>10.083948</td>\n",
              "      <td>20.507711</td>\n",
              "      <td>7.230089</td>\n",
              "      <td>8.177727</td>\n",
              "      <td>1.429602</td>\n",
              "      <td>...</td>\n",
              "      <td>29.655519</td>\n",
              "      <td>-9.564759</td>\n",
              "      <td>-27.111919</td>\n",
              "      <td>-0.604557</td>\n",
              "      <td>-21.439480</td>\n",
              "      <td>-17.789510</td>\n",
              "      <td>-54.532363</td>\n",
              "      <td>1.998957</td>\n",
              "      <td>-23.205994</td>\n",
              "      <td>21.673565</td>\n",
              "    </tr>\n",
              "  </tbody>\n",
              "</table>\n",
              "<p>5 rows × 123 columns</p>\n",
              "</div>\n",
              "      <button class=\"colab-df-convert\" onclick=\"convertToInteractive('df-d09a1cef-d0e4-4f1a-a8d1-3a9c66240087')\"\n",
              "              title=\"Convert this dataframe to an interactive table.\"\n",
              "              style=\"display:none;\">\n",
              "        \n",
              "  <svg xmlns=\"http://www.w3.org/2000/svg\" height=\"24px\"viewBox=\"0 0 24 24\"\n",
              "       width=\"24px\">\n",
              "    <path d=\"M0 0h24v24H0V0z\" fill=\"none\"/>\n",
              "    <path d=\"M18.56 5.44l.94 2.06.94-2.06 2.06-.94-2.06-.94-.94-2.06-.94 2.06-2.06.94zm-11 1L8.5 8.5l.94-2.06 2.06-.94-2.06-.94L8.5 2.5l-.94 2.06-2.06.94zm10 10l.94 2.06.94-2.06 2.06-.94-2.06-.94-.94-2.06-.94 2.06-2.06.94z\"/><path d=\"M17.41 7.96l-1.37-1.37c-.4-.4-.92-.59-1.43-.59-.52 0-1.04.2-1.43.59L10.3 9.45l-7.72 7.72c-.78.78-.78 2.05 0 2.83L4 21.41c.39.39.9.59 1.41.59.51 0 1.02-.2 1.41-.59l7.78-7.78 2.81-2.81c.8-.78.8-2.07 0-2.86zM5.41 20L4 18.59l7.72-7.72 1.47 1.35L5.41 20z\"/>\n",
              "  </svg>\n",
              "      </button>\n",
              "      \n",
              "  <style>\n",
              "    .colab-df-container {\n",
              "      display:flex;\n",
              "      flex-wrap:wrap;\n",
              "      gap: 12px;\n",
              "    }\n",
              "\n",
              "    .colab-df-convert {\n",
              "      background-color: #E8F0FE;\n",
              "      border: none;\n",
              "      border-radius: 50%;\n",
              "      cursor: pointer;\n",
              "      display: none;\n",
              "      fill: #1967D2;\n",
              "      height: 32px;\n",
              "      padding: 0 0 0 0;\n",
              "      width: 32px;\n",
              "    }\n",
              "\n",
              "    .colab-df-convert:hover {\n",
              "      background-color: #E2EBFA;\n",
              "      box-shadow: 0px 1px 2px rgba(60, 64, 67, 0.3), 0px 1px 3px 1px rgba(60, 64, 67, 0.15);\n",
              "      fill: #174EA6;\n",
              "    }\n",
              "\n",
              "    [theme=dark] .colab-df-convert {\n",
              "      background-color: #3B4455;\n",
              "      fill: #D2E3FC;\n",
              "    }\n",
              "\n",
              "    [theme=dark] .colab-df-convert:hover {\n",
              "      background-color: #434B5C;\n",
              "      box-shadow: 0px 1px 3px 1px rgba(0, 0, 0, 0.15);\n",
              "      filter: drop-shadow(0px 1px 2px rgba(0, 0, 0, 0.3));\n",
              "      fill: #FFFFFF;\n",
              "    }\n",
              "  </style>\n",
              "\n",
              "      <script>\n",
              "        const buttonEl =\n",
              "          document.querySelector('#df-d09a1cef-d0e4-4f1a-a8d1-3a9c66240087 button.colab-df-convert');\n",
              "        buttonEl.style.display =\n",
              "          google.colab.kernel.accessAllowed ? 'block' : 'none';\n",
              "\n",
              "        async function convertToInteractive(key) {\n",
              "          const element = document.querySelector('#df-d09a1cef-d0e4-4f1a-a8d1-3a9c66240087');\n",
              "          const dataTable =\n",
              "            await google.colab.kernel.invokeFunction('convertToInteractive',\n",
              "                                                     [key], {});\n",
              "          if (!dataTable) return;\n",
              "\n",
              "          const docLinkHtml = 'Like what you see? Visit the ' +\n",
              "            '<a target=\"_blank\" href=https://colab.research.google.com/notebooks/data_table.ipynb>data table notebook</a>'\n",
              "            + ' to learn more about interactive tables.';\n",
              "          element.innerHTML = '';\n",
              "          dataTable['output_type'] = 'display_data';\n",
              "          await google.colab.output.renderOutput(dataTable, element);\n",
              "          const docLink = document.createElement('div');\n",
              "          docLink.innerHTML = docLinkHtml;\n",
              "          element.appendChild(docLink);\n",
              "        }\n",
              "      </script>\n",
              "    </div>\n",
              "  </div>\n",
              "  "
            ]
          },
          "metadata": {},
          "execution_count": 141
        }
      ]
    },
    {
      "cell_type": "code",
      "source": [
        "Y_train = data_train['Y']\n",
        "data_train = data_train.iloc[:,3:]\n",
        "\n",
        "Y_test = data_test['Y']\n",
        "data_test = data_test.iloc[:,3:]"
      ],
      "metadata": {
        "id": "zGXfpICcNLwr"
      },
      "execution_count": 142,
      "outputs": []
    },
    {
      "cell_type": "code",
      "source": [
        "data_train.isnull().any().any(), data_train.isna().any().any(), data_test.isnull().any().any(), data_test.isna().any().any(), (data_train.dtypes != 'float64').any(), (data_test.dtypes != 'float64').any() "
      ],
      "metadata": {
        "colab": {
          "base_uri": "https://localhost:8080/"
        },
        "id": "98LSoJtQQk6b",
        "outputId": "1788deef-7868-4e0d-dc22-129b57c0066b"
      },
      "execution_count": 143,
      "outputs": [
        {
          "output_type": "execute_result",
          "data": {
            "text/plain": [
              "(False, False, False, False, False, False)"
            ]
          },
          "metadata": {},
          "execution_count": 143
        }
      ]
    },
    {
      "cell_type": "code",
      "source": [
        "data_train.head()"
      ],
      "metadata": {
        "colab": {
          "base_uri": "https://localhost:8080/",
          "height": 300
        },
        "id": "CaUAPEJDNLzW",
        "outputId": "86c99190-a462-4e52-a44f-0e909ae52060"
      },
      "execution_count": 144,
      "outputs": [
        {
          "output_type": "execute_result",
          "data": {
            "text/plain": [
              "          X1         X2         X3         X4         X5         X6        X7  \\\n",
              "0   0.539326  43.679088  20.926309   6.179238  -5.358717   1.731249  0.963347   \n",
              "1   1.317855 -52.162767 -20.674707  -7.343498  -6.081946   0.943064  0.166558   \n",
              "2 -12.197226 -57.110203  17.861883 -37.173679  -0.808244  -0.836227 -0.376634   \n",
              "3  15.113375  32.492299 -11.156248 -19.879407 -10.014740 -10.483214  0.037949   \n",
              "4  18.576153  76.466490  10.083948  20.507711   7.230089   8.177727  1.429602   \n",
              "\n",
              "          X8         X9        X10  ...       X111       X112       X113  \\\n",
              "0   7.525590 -11.848401  15.930232  ...   4.405429  -1.904007 -27.283487   \n",
              "1  25.022729  -9.788747  22.966192  ...   7.578385  -5.614340  -2.645981   \n",
              "2  -4.643745  14.141997  29.089453  ... -12.563511  11.269800  54.711948   \n",
              "3 -17.061066  -6.053535  25.806585  ...  -4.906042   5.712416  11.334077   \n",
              "4   2.521708  17.783646 -59.753311  ...  29.655519  -9.564759 -27.111919   \n",
              "\n",
              "        X114       X115       X116       X117       X118       X119       X120  \n",
              "0 -27.438427   4.173234  -5.760453   9.757871  -3.191983 -44.780571   8.959113  \n",
              "1  -5.275813   3.443719   7.568027 -13.174991  -0.726145 -28.217882 -19.067210  \n",
              "2 -12.364689  -4.803594  -0.759311   4.975279  12.103898  29.169132 -18.807811  \n",
              "3  -7.783005   1.574379 -18.266061  12.922255  -1.794103 -59.083551  -4.056153  \n",
              "4  -0.604557 -21.439480 -17.789510 -54.532363   1.998957 -23.205994  21.673565  \n",
              "\n",
              "[5 rows x 120 columns]"
            ],
            "text/html": [
              "\n",
              "  <div id=\"df-b73e1851-df05-4a94-b291-8e6517e5792d\">\n",
              "    <div class=\"colab-df-container\">\n",
              "      <div>\n",
              "<style scoped>\n",
              "    .dataframe tbody tr th:only-of-type {\n",
              "        vertical-align: middle;\n",
              "    }\n",
              "\n",
              "    .dataframe tbody tr th {\n",
              "        vertical-align: top;\n",
              "    }\n",
              "\n",
              "    .dataframe thead th {\n",
              "        text-align: right;\n",
              "    }\n",
              "</style>\n",
              "<table border=\"1\" class=\"dataframe\">\n",
              "  <thead>\n",
              "    <tr style=\"text-align: right;\">\n",
              "      <th></th>\n",
              "      <th>X1</th>\n",
              "      <th>X2</th>\n",
              "      <th>X3</th>\n",
              "      <th>X4</th>\n",
              "      <th>X5</th>\n",
              "      <th>X6</th>\n",
              "      <th>X7</th>\n",
              "      <th>X8</th>\n",
              "      <th>X9</th>\n",
              "      <th>X10</th>\n",
              "      <th>...</th>\n",
              "      <th>X111</th>\n",
              "      <th>X112</th>\n",
              "      <th>X113</th>\n",
              "      <th>X114</th>\n",
              "      <th>X115</th>\n",
              "      <th>X116</th>\n",
              "      <th>X117</th>\n",
              "      <th>X118</th>\n",
              "      <th>X119</th>\n",
              "      <th>X120</th>\n",
              "    </tr>\n",
              "  </thead>\n",
              "  <tbody>\n",
              "    <tr>\n",
              "      <th>0</th>\n",
              "      <td>0.539326</td>\n",
              "      <td>43.679088</td>\n",
              "      <td>20.926309</td>\n",
              "      <td>6.179238</td>\n",
              "      <td>-5.358717</td>\n",
              "      <td>1.731249</td>\n",
              "      <td>0.963347</td>\n",
              "      <td>7.525590</td>\n",
              "      <td>-11.848401</td>\n",
              "      <td>15.930232</td>\n",
              "      <td>...</td>\n",
              "      <td>4.405429</td>\n",
              "      <td>-1.904007</td>\n",
              "      <td>-27.283487</td>\n",
              "      <td>-27.438427</td>\n",
              "      <td>4.173234</td>\n",
              "      <td>-5.760453</td>\n",
              "      <td>9.757871</td>\n",
              "      <td>-3.191983</td>\n",
              "      <td>-44.780571</td>\n",
              "      <td>8.959113</td>\n",
              "    </tr>\n",
              "    <tr>\n",
              "      <th>1</th>\n",
              "      <td>1.317855</td>\n",
              "      <td>-52.162767</td>\n",
              "      <td>-20.674707</td>\n",
              "      <td>-7.343498</td>\n",
              "      <td>-6.081946</td>\n",
              "      <td>0.943064</td>\n",
              "      <td>0.166558</td>\n",
              "      <td>25.022729</td>\n",
              "      <td>-9.788747</td>\n",
              "      <td>22.966192</td>\n",
              "      <td>...</td>\n",
              "      <td>7.578385</td>\n",
              "      <td>-5.614340</td>\n",
              "      <td>-2.645981</td>\n",
              "      <td>-5.275813</td>\n",
              "      <td>3.443719</td>\n",
              "      <td>7.568027</td>\n",
              "      <td>-13.174991</td>\n",
              "      <td>-0.726145</td>\n",
              "      <td>-28.217882</td>\n",
              "      <td>-19.067210</td>\n",
              "    </tr>\n",
              "    <tr>\n",
              "      <th>2</th>\n",
              "      <td>-12.197226</td>\n",
              "      <td>-57.110203</td>\n",
              "      <td>17.861883</td>\n",
              "      <td>-37.173679</td>\n",
              "      <td>-0.808244</td>\n",
              "      <td>-0.836227</td>\n",
              "      <td>-0.376634</td>\n",
              "      <td>-4.643745</td>\n",
              "      <td>14.141997</td>\n",
              "      <td>29.089453</td>\n",
              "      <td>...</td>\n",
              "      <td>-12.563511</td>\n",
              "      <td>11.269800</td>\n",
              "      <td>54.711948</td>\n",
              "      <td>-12.364689</td>\n",
              "      <td>-4.803594</td>\n",
              "      <td>-0.759311</td>\n",
              "      <td>4.975279</td>\n",
              "      <td>12.103898</td>\n",
              "      <td>29.169132</td>\n",
              "      <td>-18.807811</td>\n",
              "    </tr>\n",
              "    <tr>\n",
              "      <th>3</th>\n",
              "      <td>15.113375</td>\n",
              "      <td>32.492299</td>\n",
              "      <td>-11.156248</td>\n",
              "      <td>-19.879407</td>\n",
              "      <td>-10.014740</td>\n",
              "      <td>-10.483214</td>\n",
              "      <td>0.037949</td>\n",
              "      <td>-17.061066</td>\n",
              "      <td>-6.053535</td>\n",
              "      <td>25.806585</td>\n",
              "      <td>...</td>\n",
              "      <td>-4.906042</td>\n",
              "      <td>5.712416</td>\n",
              "      <td>11.334077</td>\n",
              "      <td>-7.783005</td>\n",
              "      <td>1.574379</td>\n",
              "      <td>-18.266061</td>\n",
              "      <td>12.922255</td>\n",
              "      <td>-1.794103</td>\n",
              "      <td>-59.083551</td>\n",
              "      <td>-4.056153</td>\n",
              "    </tr>\n",
              "    <tr>\n",
              "      <th>4</th>\n",
              "      <td>18.576153</td>\n",
              "      <td>76.466490</td>\n",
              "      <td>10.083948</td>\n",
              "      <td>20.507711</td>\n",
              "      <td>7.230089</td>\n",
              "      <td>8.177727</td>\n",
              "      <td>1.429602</td>\n",
              "      <td>2.521708</td>\n",
              "      <td>17.783646</td>\n",
              "      <td>-59.753311</td>\n",
              "      <td>...</td>\n",
              "      <td>29.655519</td>\n",
              "      <td>-9.564759</td>\n",
              "      <td>-27.111919</td>\n",
              "      <td>-0.604557</td>\n",
              "      <td>-21.439480</td>\n",
              "      <td>-17.789510</td>\n",
              "      <td>-54.532363</td>\n",
              "      <td>1.998957</td>\n",
              "      <td>-23.205994</td>\n",
              "      <td>21.673565</td>\n",
              "    </tr>\n",
              "  </tbody>\n",
              "</table>\n",
              "<p>5 rows × 120 columns</p>\n",
              "</div>\n",
              "      <button class=\"colab-df-convert\" onclick=\"convertToInteractive('df-b73e1851-df05-4a94-b291-8e6517e5792d')\"\n",
              "              title=\"Convert this dataframe to an interactive table.\"\n",
              "              style=\"display:none;\">\n",
              "        \n",
              "  <svg xmlns=\"http://www.w3.org/2000/svg\" height=\"24px\"viewBox=\"0 0 24 24\"\n",
              "       width=\"24px\">\n",
              "    <path d=\"M0 0h24v24H0V0z\" fill=\"none\"/>\n",
              "    <path d=\"M18.56 5.44l.94 2.06.94-2.06 2.06-.94-2.06-.94-.94-2.06-.94 2.06-2.06.94zm-11 1L8.5 8.5l.94-2.06 2.06-.94-2.06-.94L8.5 2.5l-.94 2.06-2.06.94zm10 10l.94 2.06.94-2.06 2.06-.94-2.06-.94-.94-2.06-.94 2.06-2.06.94z\"/><path d=\"M17.41 7.96l-1.37-1.37c-.4-.4-.92-.59-1.43-.59-.52 0-1.04.2-1.43.59L10.3 9.45l-7.72 7.72c-.78.78-.78 2.05 0 2.83L4 21.41c.39.39.9.59 1.41.59.51 0 1.02-.2 1.41-.59l7.78-7.78 2.81-2.81c.8-.78.8-2.07 0-2.86zM5.41 20L4 18.59l7.72-7.72 1.47 1.35L5.41 20z\"/>\n",
              "  </svg>\n",
              "      </button>\n",
              "      \n",
              "  <style>\n",
              "    .colab-df-container {\n",
              "      display:flex;\n",
              "      flex-wrap:wrap;\n",
              "      gap: 12px;\n",
              "    }\n",
              "\n",
              "    .colab-df-convert {\n",
              "      background-color: #E8F0FE;\n",
              "      border: none;\n",
              "      border-radius: 50%;\n",
              "      cursor: pointer;\n",
              "      display: none;\n",
              "      fill: #1967D2;\n",
              "      height: 32px;\n",
              "      padding: 0 0 0 0;\n",
              "      width: 32px;\n",
              "    }\n",
              "\n",
              "    .colab-df-convert:hover {\n",
              "      background-color: #E2EBFA;\n",
              "      box-shadow: 0px 1px 2px rgba(60, 64, 67, 0.3), 0px 1px 3px 1px rgba(60, 64, 67, 0.15);\n",
              "      fill: #174EA6;\n",
              "    }\n",
              "\n",
              "    [theme=dark] .colab-df-convert {\n",
              "      background-color: #3B4455;\n",
              "      fill: #D2E3FC;\n",
              "    }\n",
              "\n",
              "    [theme=dark] .colab-df-convert:hover {\n",
              "      background-color: #434B5C;\n",
              "      box-shadow: 0px 1px 3px 1px rgba(0, 0, 0, 0.15);\n",
              "      filter: drop-shadow(0px 1px 2px rgba(0, 0, 0, 0.3));\n",
              "      fill: #FFFFFF;\n",
              "    }\n",
              "  </style>\n",
              "\n",
              "      <script>\n",
              "        const buttonEl =\n",
              "          document.querySelector('#df-b73e1851-df05-4a94-b291-8e6517e5792d button.colab-df-convert');\n",
              "        buttonEl.style.display =\n",
              "          google.colab.kernel.accessAllowed ? 'block' : 'none';\n",
              "\n",
              "        async function convertToInteractive(key) {\n",
              "          const element = document.querySelector('#df-b73e1851-df05-4a94-b291-8e6517e5792d');\n",
              "          const dataTable =\n",
              "            await google.colab.kernel.invokeFunction('convertToInteractive',\n",
              "                                                     [key], {});\n",
              "          if (!dataTable) return;\n",
              "\n",
              "          const docLinkHtml = 'Like what you see? Visit the ' +\n",
              "            '<a target=\"_blank\" href=https://colab.research.google.com/notebooks/data_table.ipynb>data table notebook</a>'\n",
              "            + ' to learn more about interactive tables.';\n",
              "          element.innerHTML = '';\n",
              "          dataTable['output_type'] = 'display_data';\n",
              "          await google.colab.output.renderOutput(dataTable, element);\n",
              "          const docLink = document.createElement('div');\n",
              "          docLink.innerHTML = docLinkHtml;\n",
              "          element.appendChild(docLink);\n",
              "        }\n",
              "      </script>\n",
              "    </div>\n",
              "  </div>\n",
              "  "
            ]
          },
          "metadata": {},
          "execution_count": 144
        }
      ]
    },
    {
      "cell_type": "code",
      "source": [
        "from sklearn.ensemble import RandomForestRegressor\n",
        "from sklearn.pipeline import make_pipeline\n",
        "from sklearn import preprocessing\n",
        "\n",
        "regr = RandomForestRegressor(max_depth=100, random_state=0) \n",
        "regr.fit(data_train, Y_train)"
      ],
      "metadata": {
        "id": "fzX2eAGANL1p",
        "colab": {
          "base_uri": "https://localhost:8080/"
        },
        "outputId": "4d3623f6-1563-48e9-93f5-b3165a129f5b"
      },
      "execution_count": 145,
      "outputs": [
        {
          "output_type": "execute_result",
          "data": {
            "text/plain": [
              "RandomForestRegressor(max_depth=100, random_state=0)"
            ]
          },
          "metadata": {},
          "execution_count": 145
        }
      ]
    },
    {
      "cell_type": "code",
      "source": [
        "pd.Series(regr.feature_importances_).plot(kind  ='bar', color = '#2222be', figsize = (17, 4));"
      ],
      "metadata": {
        "id": "JA_aCHHEOjoH",
        "colab": {
          "base_uri": "https://localhost:8080/",
          "height": 274
        },
        "outputId": "0d7263f6-15a9-474f-8747-92c2590c6003"
      },
      "execution_count": 146,
      "outputs": [
        {
          "output_type": "display_data",
          "data": {
            "text/plain": [
              "<Figure size 1224x288 with 1 Axes>"
            ],
            "image/png": "[encoded data removed]"
          },
          "metadata": {
            "needs_background": "light"
          }
        }
      ]
    },
    {
      "cell_type": "code",
      "source": [
        "std = preprocessing.StandardScaler()\n",
        "Xsc = pd.DataFrame(std.fit_transform(data_train, y = Y_train))"
      ],
      "metadata": {
        "id": "ntbS3_dbOjqo"
      },
      "execution_count": 147,
      "outputs": []
    },
    {
      "cell_type": "code",
      "source": [
        "regr_with_scaled_data = RandomForestRegressor(max_depth=100, random_state=0)\n",
        "regr_with_scaled_data.fit(Xsc,Y_train)\n",
        "pd.Series(regr_with_scaled_data.feature_importances_).plot(kind  ='bar', color = '#2222be', figsize = (17, 4));"
      ],
      "metadata": {
        "id": "rjOfB8pwOjs2"
      },
      "execution_count": null,
      "outputs": []
    },
    {
      "cell_type": "markdown",
      "source": [
        "как видно, что лесу плевать на нормализацию данных))"
      ],
      "metadata": {
        "id": "aW3Xbe-XGyvX"
      }
    },
    {
      "cell_type": "code",
      "source": [
        "rfr = make_pipeline(preprocessing.StandardScaler(),RandomForestRegressor(random_state=42))\n",
        "rfr.fit(data_train, Y_train)\n",
        "importance_features = pd.Series(rfr[1].feature_importances_).sort_values(ascending = False)"
      ],
      "metadata": {
        "id": "Eo87mI1NGsJZ"
      },
      "execution_count": null,
      "outputs": []
    },
    {
      "cell_type": "code",
      "source": [
        "importance_features_sum = []\n",
        "for i in importance_features.index:\n",
        "    if len(importance_features_sum) == 0:\n",
        "        importance_features_sum.append(importance_features[i])\n",
        "    else:\n",
        "        importance_features_sum.append(importance_features_sum[-1]+importance_features[i])\n",
        "index = 0\n",
        "for i in range(len(importance_features_sum) + 1):\n",
        "  if(importance_features_sum[i] > 0.9):\n",
        "    index = i\n",
        "    break\n",
        "important_indexes = importance_features.iloc[:index].index"
      ],
      "metadata": {
        "id": "uDKWWHj2xdf_"
      },
      "execution_count": null,
      "outputs": []
    },
    {
      "cell_type": "markdown",
      "source": [
        "оставили только те переменные, которые в сумме по важности дают 0.9"
      ],
      "metadata": {
        "id": "tb-hQO09CD4m"
      }
    },
    {
      "cell_type": "code",
      "source": [
        "important_indexes"
      ],
      "metadata": {
        "id": "BNuN3imxrCUe"
      },
      "execution_count": null,
      "outputs": []
    },
    {
      "cell_type": "code",
      "source": [
        "important_indexes_column_names = list(map(lambda x: 'X'+str(x), important_indexes))"
      ],
      "metadata": {
        "id": "QGBv2sm4rCXO"
      },
      "execution_count": null,
      "outputs": []
    },
    {
      "cell_type": "code",
      "source": [
        "X_train = data_train[important_indexes_column_names]\n",
        "X_test = data_test[important_indexes_column_names]"
      ],
      "metadata": {
        "id": "ES2ySeBg7yGQ"
      },
      "execution_count": null,
      "outputs": []
    },
    {
      "cell_type": "code",
      "source": [
        "forestRegressor = make_pipeline(preprocessing.StandardScaler(),RandomForestRegressor(random_state=42))\n",
        "forestRegressor.fit(X_train, Y_train)"
      ],
      "metadata": {
        "id": "bttrmAkl7yIq"
      },
      "execution_count": null,
      "outputs": []
    },
    {
      "cell_type": "code",
      "source": [
        "from sklearn.svm import SVR\n",
        "svrRegressor = make_pipeline(preprocessing.StandardScaler(), SVR(gamma='auto'))\n",
        "svrRegressor.fit(X_train, Y_train)"
      ],
      "metadata": {
        "id": "IOm4R5Gs7yLS"
      },
      "execution_count": null,
      "outputs": []
    },
    {
      "cell_type": "code",
      "source": [
        "from sklearn.linear_model import SGDRegressor\n",
        "sgdrResressor = make_pipeline(preprocessing.StandardScaler(), SGDRegressor(random_state=42))\n",
        "sgdrResressor.fit(X_train, Y_train)"
      ],
      "metadata": {
        "id": "Qha4Va5X7yNa"
      },
      "execution_count": null,
      "outputs": []
    },
    {
      "cell_type": "code",
      "source": [
        "from sklearn.ensemble import GradientBoostingRegressor\n",
        "gbrResressor = make_pipeline(preprocessing.StandardScaler(), GradientBoostingRegressor(random_state=42))\n",
        "gbrResressor.fit(X_train, Y_train)"
      ],
      "metadata": {
        "id": "kBWMI06k_cIw"
      },
      "execution_count": null,
      "outputs": []
    },
    {
      "cell_type": "code",
      "source": [
        "estimators=[('forest', forestRegressor),('svr', svrRegressor), ('sgdr', sgdrResressor), ('gbr', gbrResressor)]"
      ],
      "metadata": {
        "id": "cTvoGvy-7yP6"
      },
      "execution_count": null,
      "outputs": []
    },
    {
      "cell_type": "code",
      "source": [
        "from sklearn.ensemble import VotingRegressor"
      ],
      "metadata": {
        "id": "egxGv1b28HMq"
      },
      "execution_count": null,
      "outputs": []
    },
    {
      "cell_type": "code",
      "source": [
        "model = VotingRegressor(estimators, n_jobs=-1, verbose=True)\n",
        "model.fit(X_train, Y_train)"
      ],
      "metadata": {
        "id": "Gqd3FdQZ8HPR"
      },
      "execution_count": null,
      "outputs": []
    },
    {
      "cell_type": "code",
      "source": [
        "model.score(X_test, Y_test)"
      ],
      "metadata": {
        "id": "zvt0X_AY8HRo"
      },
      "execution_count": null,
      "outputs": []
    },
    {
      "cell_type": "code",
      "source": [
        "import sklearn.metrics as met\n",
        "predict = model.predict(X_test)\n",
        "met.mean_squared_error(Y_test, predict), met.r2_score(Y_test, predict)"
      ],
      "metadata": {
        "id": "rPuFbjAa8NHu"
      },
      "execution_count": null,
      "outputs": []
    },
    {
      "cell_type": "code",
      "source": [
        "models = [forestRegressor, svrRegressor, sgdrResressor, gbrResressor]\n",
        "for i in models:\n",
        "    pred = i.predict(X_test)\n",
        "    print(f'squared: {met.mean_squared_error(Y_test, pred)} mean: {met.r2_score(Y_test, pred)}')"
      ],
      "metadata": {
        "id": "1AX7Q0yT8NKc"
      },
      "execution_count": null,
      "outputs": []
    },
    {
      "cell_type": "code",
      "source": [
        "import joblib\n",
        "joblib.dump(model, './my_model.pkl')"
      ],
      "metadata": {
        "id": "PgKNRC1z9BHN"
      },
      "execution_count": null,
      "outputs": []
    }
  ]
}